{
 "cells": [
  {
   "cell_type": "markdown",
   "metadata": {},
   "source": [
    "# Convolutional Neural Networks: Application\n",
    "In this project, we will:\n",
    "\n",
    "- Create a mood classifer using the TF Keras Sequential API\n",
    "- Build a ConvNet to identify sign language digits using the TF Keras Functional API\n",
    "\n",
    "**After this project we will be able to:**\n",
    "\n",
    "- Build and train a ConvNet in TensorFlow for a __binary__ classification problem\n",
    "- Build and train a ConvNet in TensorFlow for a __multiclass__ classification problem\n",
    "- Explain different use cases for the Sequential and Functional APIs\n"
   ]
  },
  {
   "cell_type": "markdown",
   "metadata": {},
   "source": [
    "<a name='1'></a>\n",
    "## 1 - Packages\n",
    "\n",
    "As usual, begin by loading in the packages."
   ]
  },
  {
   "cell_type": "code",
   "execution_count": 1,
   "metadata": {},
   "outputs": [],
   "source": [
    "import math\n",
    "import numpy as np\n",
    "import h5py\n",
    "import matplotlib.pyplot as plt\n",
    "from matplotlib.pyplot import imread\n",
    "import scipy\n",
    "from PIL import Image\n",
    "import pandas as pd\n",
    "import tensorflow as tf\n",
    "import tensorflow.keras.layers as tfl\n",
    "from tensorflow.python.framework import ops\n",
    "from cnn_utils import *\n",
    "from test_utils import summary, comparator\n",
    "\n",
    "%matplotlib inline\n",
    "np.random.seed(1)"
   ]
  },
  {
   "cell_type": "markdown",
   "metadata": {},
   "source": [
    "<a name='1-1'></a>\n",
    "### 1.1 - Load the Data and Split the Data into Train/Test Sets\n",
    "\n",
    "we'll be using the Happy House dataset for this part of the project, which contains images of peoples' faces. our task will be to build a ConvNet that determines whether the people in the images are smiling or not -- because they only get to enter the house if they're smiling!  "
   ]
  },
  {
   "cell_type": "code",
   "execution_count": 2,
   "metadata": {},
   "outputs": [
    {
     "name": "stdout",
     "output_type": "stream",
     "text": [
      "number of training examples = 600\n",
      "number of test examples = 150\n",
      "X_train shape: (600, 64, 64, 3)\n",
      "Y_train shape: (600, 1)\n",
      "X_test shape: (150, 64, 64, 3)\n",
      "Y_test shape: (150, 1)\n"
     ]
    }
   ],
   "source": [
    "X_train_orig, Y_train_orig, X_test_orig, Y_test_orig, classes = load_happy_dataset()\n",
    "\n",
    "# Normalize image vectors\n",
    "X_train = X_train_orig/255.\n",
    "X_test = X_test_orig/255.\n",
    "\n",
    "# Reshape\n",
    "Y_train = Y_train_orig.T\n",
    "Y_test = Y_test_orig.T\n",
    "\n",
    "print (\"number of training examples = \" + str(X_train.shape[0]))\n",
    "print (\"number of test examples = \" + str(X_test.shape[0]))\n",
    "print (\"X_train shape: \" + str(X_train.shape))\n",
    "print (\"Y_train shape: \" + str(Y_train.shape))\n",
    "print (\"X_test shape: \" + str(X_test.shape))\n",
    "print (\"Y_test shape: \" + str(Y_test.shape))"
   ]
  },
  {
   "cell_type": "markdown",
   "metadata": {},
   "source": [
    "we can display the images contained in the dataset. Images are **64x64** pixels in RGB format (3 channels)."
   ]
  },
  {
   "cell_type": "code",
   "execution_count": 3,
   "metadata": {},
   "outputs": [
    {
     "data": {
      "image/png": "[encoded data removed]",
      "text/plain": [
       "<Figure size 432x288 with 1 Axes>"
      ]
     },
     "metadata": {
      "needs_background": "light"
     },
     "output_type": "display_data"
    }
   ],
   "source": [
    "index = 124\n",
    "plt.imshow(X_train_orig[index]) #display sample training image\n",
    "plt.show()"
   ]
  },
  {
   "cell_type": "markdown",
   "metadata": {},
   "source": [
    "<a name='2'></a>\n",
    "## 2 - Layers in TF Keras \n",
    "\n",
    "In TF Keras, we don't have to write code directly to create layers. Rather, TF Keras has pre-defined layers we can use. \n",
    "\n",
    "When we create a layer in TF Keras, we are creating a function that takes some input and transforms it into an output we can reuse later. Nice and easy! "
   ]
  },
  {
   "cell_type": "markdown",
   "metadata": {},
   "source": [
    "<a name='3'></a>\n",
    "## 3 - The Sequential API\n",
    "Keras is a high-level abstraction built on top of TensorFlow, which allows for even more simplified and optimized model creation and training. \n",
    "\n",
    "For the first part of this project, we'll create a model using TF Keras' Sequential API, which allows us to build layer by layer, and is ideal for building models where each layer has **exactly one** input tensor and **one** output tensor. \n",
    "\n",
    "As we'll see, using the Sequential API is simple and straightforward, but is only appropriate for simpler, more straightforward tasks. Later in this project we'll spend some time building with a more flexible, poourful alternative: the Functional API. \n",
    " "
   ]
  },
  {
   "cell_type": "markdown",
   "metadata": {},
   "source": [
    "<a name='3-1'></a>\n",
    "### 3.1 - Create the Sequential Model\n",
    "\n",
    "As mentioned earlier, the TensorFlow Keras Sequential API can be used to build simple models with layer operations that proceed in a sequential order. \n",
    "\n",
    "We can also add layers incrementally to a Sequential model with the `.add()` method, or remove them using the `.pop()` method, much like we would in a regular Python list.\n",
    "\n",
    "Actually, we can think of a Sequential model as behaving like a list of layers. Like Python lists, Sequential layers are ordered, and the order in which they are specified matters.  If our model is non-linear or contains layers with multiple inputs or outputs, a Sequential model wouldn't be the right choice!\n",
    "\n",
    "For any layer construction in Keras, we'll need to specify the input shape in advance. This is because in Keras, the shape of the weights is based on the shape of the inputs. The weights are only created when the model first sees some input data. Sequential models can be created by passing a list of layers to the Sequential constructor, like we will do in the next project.\n",
    "\n",
    "<a name='ex-1'></a>\n",
    "### happyModel\n",
    "\n",
    "Implement the `happyModel` function below to build the following model: `ZEROPAD2D -> CONV2D -> BATCHNORM -> RELU -> MAXPOOL -> FLATTEN -> DENSE`. Take help from [tf.keras.layers](https://www.tensorflow.org/api_docs/python/tf/keras/layers) \n",
    "\n",
    "Also, plug in the following parameters for all the steps:\n",
    "\n",
    " - [ZeroPadding2D](https://www.tensorflow.org/api_docs/python/tf/keras/layers/ZeroPadding2D): padding 3, input shape 64 x 64 x 3\n",
    " - [Conv2D](https://www.tensorflow.org/api_docs/python/tf/keras/layers/Conv2D): Use 32 7x7 filters, stride 1\n",
    " - [BatchNormalization](https://www.tensorflow.org/api_docs/python/tf/keras/layers/BatchNormalization): for axis 3\n",
    " - [ReLU](https://www.tensorflow.org/api_docs/python/tf/keras/layers/ReLU)\n",
    " - [MaxPool2D](https://www.tensorflow.org/api_docs/python/tf/keras/layers/MaxPool2D): Using default parameters\n",
    " - [Flatten](https://www.tensorflow.org/api_docs/python/tf/keras/layers/Flatten) the previous output.\n",
    " - Fully-connected ([Dense](https://www.tensorflow.org/api_docs/python/tf/keras/layers/Dense)) layer: Apply a fully connected layer with 1 neuron and a sigmoid activation. \n",
    " \n",
    " "
   ]
  },
  {
   "cell_type": "code",
   "execution_count": 33,
   "metadata": {
    "deletable": false,
    "nbgrader": {
     "cell_type": "code",
     "checksum": "95d28b191f257bdd5b70c7b8952559d5",
     "grade": false,
     "grade_id": "cell-0e56d3fc28b69aec",
     "locked": false,
     "schema_version": 3,
     "solution": true,
     "task": false
    }
   },
   "outputs": [],
   "source": [
    "def happyModel():\n",
    "    \"\"\"\n",
    "    Implements the forward propagation for the binary classification model:\n",
    "    ZEROPAD2D -> CONV2D -> BATCHNORM -> RELU -> MAXPOOL -> FLATTEN -> DENSE\n",
    "    \n",
    "    Note that for simplicity and grading purposes, we'll hard-code all the values\n",
    "    such as the stride and kernel (filter) sizes. \n",
    "    Normally, functions should take these values as function parameters.\n",
    "    \n",
    "    Arguments:\n",
    "    None\n",
    "\n",
    "    Returns:\n",
    "    model -- TF Keras model (object containing the information for the entire training process) \n",
    "    \"\"\"\n",
    "    \n",
    "    \n",
    "    model = tf.keras.Sequential([\n",
    "            tfl.ZeroPadding2D(padding=3, input_shape=(64,64,3)),\n",
    "            tfl.Conv2D(filters=32,kernel_size=7,strides=1),\n",
    "            tfl.BatchNormalization(axis=3),\n",
    "            tfl.ReLU(),\n",
    "            tfl.MaxPool2D(),\n",
    "            tfl.Flatten(),\n",
    "            tfl.Dense(units=1,activation='sigmoid')\n",
    "            \n",
    "        ])\n",
    "   \n",
    "    \n",
    "    return model"
   ]
  },
  {
   "cell_type": "code",
   "execution_count": 34,
   "metadata": {
    "deletable": false,
    "editable": false,
    "nbgrader": {
     "cell_type": "code",
     "checksum": "8d3575c950e2e78149be2d05d671c80d",
     "grade": true,
     "grade_id": "cell-e3e1046e5c33d775",
     "locked": true,
     "points": 10,
     "schema_version": 3,
     "solution": false,
     "task": false
    }
   },
   "outputs": [
    {
     "name": "stdout",
     "output_type": "stream",
     "text": [
      "['ZeroPadding2D', (None, 70, 70, 3), 0, ((3, 3), (3, 3))]\n",
      "['Conv2D', (None, 64, 64, 32), 4736, 'valid', 'linear', 'GlorotUniform']\n",
      "['BatchNormalization', (None, 64, 64, 32), 128]\n",
      "['ReLU', (None, 64, 64, 32), 0]\n",
      "['MaxPooling2D', (None, 32, 32, 32), 0, (2, 2), (2, 2), 'valid']\n",
      "['Flatten', (None, 32768), 0]\n",
      "['Dense', (None, 1), 32769, 'sigmoid']\n",
      "\u001b[32mAll tests passed!\u001b[0m\n"
     ]
    }
   ],
   "source": [
    "happy_model = happyModel()\n",
    "# Print a summary for each layer\n",
    "for layer in summary(happy_model):\n",
    "    print(layer)\n",
    "    \n",
    "output = [['ZeroPadding2D', (None, 70, 70, 3), 0, ((3, 3), (3, 3))],\n",
    "            ['Conv2D', (None, 64, 64, 32), 4736, 'valid', 'linear', 'GlorotUniform'],\n",
    "            ['BatchNormalization', (None, 64, 64, 32), 128],\n",
    "            ['ReLU', (None, 64, 64, 32), 0],\n",
    "            ['MaxPooling2D', (None, 32, 32, 32), 0, (2, 2), (2, 2), 'valid'],\n",
    "            ['Flatten', (None, 32768), 0],\n",
    "            ['Dense', (None, 1), 32769, 'sigmoid']]\n",
    "    \n",
    "comparator(summary(happy_model), output)"
   ]
  },
  {
   "cell_type": "markdown",
   "metadata": {},
   "source": [
    "Now that our model is created, we can compile it for training with an optimizer and loss of our choice. When the string `accuracy` is specified as a metric, the type of accuracy used will be automatically converted based on the loss function used. This is one of the many optimizations built into TensorFlow that make our life easier! If we'd like to read more on how the compiler operates, check the docs [here](https://www.tensorflow.org/api_docs/python/tf/keras/Model#compile)."
   ]
  },
  {
   "cell_type": "code",
   "execution_count": 35,
   "metadata": {},
   "outputs": [],
   "source": [
    "happy_model.compile(optimizer='adam',\n",
    "                   loss='binary_crossentropy',\n",
    "                   metrics=['accuracy'])"
   ]
  },
  {
   "cell_type": "markdown",
   "metadata": {},
   "source": [
    "It's time to check our model's parameters with the `.summary()` method. This will display the types of layers we have, the shape of the outputs, and how many parameters are in each layer. "
   ]
  },
  {
   "cell_type": "code",
   "execution_count": 36,
   "metadata": {},
   "outputs": [
    {
     "name": "stdout",
     "output_type": "stream",
     "text": [
      "Model: \"sequential_5\"\n",
      "_________________________________________________________________\n",
      "Layer (type)                 Output Shape              Param #   \n",
      "=================================================================\n",
      "zero_padding2d_13 (ZeroPaddi (None, 70, 70, 3)         0         \n",
      "_________________________________________________________________\n",
      "conv2d_6 (Conv2D)            (None, 64, 64, 32)        4736      \n",
      "_________________________________________________________________\n",
      "batch_normalization_6 (Batch (None, 64, 64, 32)        128       \n",
      "_________________________________________________________________\n",
      "re_lu_6 (ReLU)               (None, 64, 64, 32)        0         \n",
      "_________________________________________________________________\n",
      "max_pooling2d_5 (MaxPooling2 (None, 32, 32, 32)        0         \n",
      "_________________________________________________________________\n",
      "flatten_5 (Flatten)          (None, 32768)             0         \n",
      "_________________________________________________________________\n",
      "dense_5 (Dense)              (None, 1)                 32769     \n",
      "=================================================================\n",
      "Total params: 37,633\n",
      "Trainable params: 37,569\n",
      "Non-trainable params: 64\n",
      "_________________________________________________________________\n"
     ]
    }
   ],
   "source": [
    "happy_model.summary()"
   ]
  },
  {
   "cell_type": "markdown",
   "metadata": {},
   "source": [
    "<a name='3-2'></a>\n",
    "### 3.2 - Train and Evaluate the Model\n",
    "\n",
    "After creating the model, compiling it with our choice of optimizer and loss function, and doing a sanity check on its contents, we are now ready to build! \n",
    "\n",
    "Simply call `.fit()` to train. That's it! No need for mini-batching, saving, or complex backpropagation computations. That's all been done for we, as we're using a TensorFlow dataset with the batches specified already. we do have the option to specify epoch number or minibatch size if we like (for example, in the case of an un-batched dataset)."
   ]
  },
  {
   "cell_type": "code",
   "execution_count": 37,
   "metadata": {},
   "outputs": [
    {
     "name": "stdout",
     "output_type": "stream",
     "text": [
      "Epoch 1/10\n",
      "38/38 [==============================] - 4s 98ms/step - loss: 1.6643 - accuracy: 0.6417\n",
      "Epoch 2/10\n",
      "38/38 [==============================] - 4s 95ms/step - loss: 0.2954 - accuracy: 0.8833\n",
      "Epoch 3/10\n",
      "38/38 [==============================] - 4s 97ms/step - loss: 0.1340 - accuracy: 0.9500\n",
      "Epoch 4/10\n",
      "38/38 [==============================] - 4s 95ms/step - loss: 0.1038 - accuracy: 0.9633\n",
      "Epoch 5/10\n",
      "38/38 [==============================] - 4s 95ms/step - loss: 0.0969 - accuracy: 0.9650\n",
      "Epoch 6/10\n",
      "38/38 [==============================] - 4s 97ms/step - loss: 0.0704 - accuracy: 0.9767\n",
      "Epoch 7/10\n",
      "38/38 [==============================] - 4s 95ms/step - loss: 0.0602 - accuracy: 0.9783\n",
      "Epoch 8/10\n",
      "38/38 [==============================] - 4s 95ms/step - loss: 0.0633 - accuracy: 0.9750\n",
      "Epoch 9/10\n",
      "38/38 [==============================] - 4s 95ms/step - loss: 0.1367 - accuracy: 0.9517\n",
      "Epoch 10/10\n",
      "38/38 [==============================] - 4s 95ms/step - loss: 0.1097 - accuracy: 0.9600\n"
     ]
    },
    {
     "data": {
      "text/plain": [
       "<tensorflow.python.keras.callbacks.History at 0x7fe1d691c9d0>"
      ]
     },
     "execution_count": 37,
     "metadata": {},
     "output_type": "execute_result"
    }
   ],
   "source": [
    "happy_model.fit(X_train, Y_train, epochs=10, batch_size=16)"
   ]
  },
  {
   "cell_type": "markdown",
   "metadata": {},
   "source": [
    "After that completes, just use `.evaluate()` to evaluate against our test set. This function will print the value of the loss function and the performance metrics specified during the compilation of the model. In this case, the `binary_crossentropy` and the `accuracy` respectively."
   ]
  },
  {
   "cell_type": "code",
   "execution_count": 38,
   "metadata": {},
   "outputs": [
    {
     "name": "stdout",
     "output_type": "stream",
     "text": [
      "5/5 [==============================] - 0s 34ms/step - loss: 0.4058 - accuracy: 0.7867\n"
     ]
    },
    {
     "data": {
      "text/plain": [
       "[0.405800998210907, 0.7866666913032532]"
      ]
     },
     "execution_count": 38,
     "metadata": {},
     "output_type": "execute_result"
    }
   ],
   "source": [
    "happy_model.evaluate(X_test, Y_test)"
   ]
  },
  {
   "cell_type": "markdown",
   "metadata": {},
   "source": [
    "But what if we need to build a model with shared layers, branches, or multiple inputs and outputs? This is where Sequential, with its beautifully simple yet limited functionality, won't be able to help we. \n",
    "\n",
    "Next up: Enter the Functional API, our slightly more complex, highly flexible friend.  "
   ]
  },
  {
   "cell_type": "markdown",
   "metadata": {},
   "source": [
    "<a name='4'></a>\n",
    "## 4 - The Functional API"
   ]
  },
  {
   "cell_type": "markdown",
   "metadata": {},
   "source": [
    "Here we'll use Keras' flexible [Functional API](https://www.tensorflow.org/guide/keras/functional) to build a ConvNet that can differentiate between 6 sign language digits. \n",
    "\n",
    "The Functional API can handle models with non-linear topology, shared layers, as well as layers with multiple inputs or outputs. Imagine that, where the Sequential API requires the model to move in a linear fashion through its layers, the Functional API allows much more flexibility. Where Sequential is a straight line, a Functional model is a graph, where the nodes of the layers can connect in many more ways than one. \n"
   ]
  },
  {
   "cell_type": "markdown",
   "metadata": {},
   "source": [
    "<a name='4-1'></a>\n",
    "### 4.1 - Load the SIGNS Dataset\n",
    "\n",
    "As a reminder, the SIGNS dataset is a collection of 6 signs representing numbers from 0 to 5."
   ]
  },
  {
   "cell_type": "code",
   "execution_count": 39,
   "metadata": {},
   "outputs": [],
   "source": [
    "# Loading the data (signs)\n",
    "X_train_orig, Y_train_orig, X_test_orig, Y_test_orig, classes = load_signs_dataset()"
   ]
  },
  {
   "cell_type": "code",
   "execution_count": 40,
   "metadata": {},
   "outputs": [
    {
     "name": "stdout",
     "output_type": "stream",
     "text": [
      "y = 4\n"
     ]
    },
    {
     "data": {
      "image/png": "[encoded data removed]",
      "text/plain": [
       "<Figure size 432x288 with 1 Axes>"
      ]
     },
     "metadata": {
      "needs_background": "light"
     },
     "output_type": "display_data"
    }
   ],
   "source": [
    "# Example of an image from the dataset\n",
    "index = 9\n",
    "plt.imshow(X_train_orig[index])\n",
    "print (\"y = \" + str(np.squeeze(Y_train_orig[:, index])))"
   ]
  },
  {
   "cell_type": "markdown",
   "metadata": {},
   "source": [
    "<a name='4-2'></a>\n",
    "### 4.2 - Split the Data into Train/Test Sets\n"
   ]
  },
  {
   "cell_type": "code",
   "execution_count": 41,
   "metadata": {},
   "outputs": [
    {
     "name": "stdout",
     "output_type": "stream",
     "text": [
      "number of training examples = 1080\n",
      "number of test examples = 120\n",
      "X_train shape: (1080, 64, 64, 3)\n",
      "Y_train shape: (1080, 6)\n",
      "X_test shape: (120, 64, 64, 3)\n",
      "Y_test shape: (120, 6)\n"
     ]
    }
   ],
   "source": [
    "X_train = X_train_orig/255.\n",
    "X_test = X_test_orig/255.\n",
    "Y_train = convert_to_one_hot(Y_train_orig, 6).T\n",
    "Y_test = convert_to_one_hot(Y_test_orig, 6).T\n",
    "print (\"number of training examples = \" + str(X_train.shape[0]))\n",
    "print (\"number of test examples = \" + str(X_test.shape[0]))\n",
    "print (\"X_train shape: \" + str(X_train.shape))\n",
    "print (\"Y_train shape: \" + str(Y_train.shape))\n",
    "print (\"X_test shape: \" + str(X_test.shape))\n",
    "print (\"Y_test shape: \" + str(Y_test.shape))"
   ]
  },
  {
   "cell_type": "markdown",
   "metadata": {},
   "source": [
    "<a name='4-3'></a>\n",
    "### 4.3 - Forward Propagation\n",
    "\n",
    "In TensorFlow, there are built-in functions that implement the convolution steps for we. By now, we should be familiar with how TensorFlow builds computational graphs. In the [Functional API](https://www.tensorflow.org/guide/keras/functional), we create a graph of layers. This is what allows such great flexibility.\n",
    "\n",
    "However, the following model could also be defined using the Sequential API since the information flow is on a single line.\n",
    "\n",
    "Begin building our graph of layers by creating an input node that functions as a callable object:\n",
    "\n",
    "- **input_img = tf.keras.Input(shape=input_shape):** \n",
    "\n",
    "Then, create a new node in the graph of layers by calling a layer on the `input_img` object: \n",
    "\n",
    "- **tf.keras.layers.Conv2D(filters= ... , kernel_size= ... , padding='same')(input_img):** Read the full documentation on [Conv2D](https://www.tensorflow.org/api_docs/python/tf/keras/layers/Conv2D).\n",
    "\n",
    "- **tf.keras.layers.MaxPool2D(pool_size=(f, f), strides=(s, s), padding='same'):** `MaxPool2D()` downsamples our input using a window of size (f, f) and strides of size (s, s) to carry out max pooling over each window.  For max pooling, we usually operate on a single example at a time and a single channel at a time. Read the full documentation on [MaxPool2D](https://www.tensorflow.org/api_docs/python/tf/keras/layers/MaxPool2D).\n",
    "\n",
    "- **tf.keras.layers.ReLU():** computes the elementwise ReLU of Z (which can be any shape). we can read the full documentation on [ReLU](https://www.tensorflow.org/api_docs/python/tf/keras/layers/ReLU).\n",
    "\n",
    "- **tf.keras.layers.Flatten()**: given a tensor \"P\", this function takes each training (or test) example in the batch and flattens it into a 1D vector.  \n",
    "\n",
    "    * If a tensor P has the shape (batch_size,h,w,c), it returns a flattened tensor with shape (batch_size, k), where $k=h \\times w \\times c$.  \"k\" equals the product of all the dimension sizes other than the first dimension.\n",
    "    \n",
    "    * For example, given a tensor with dimensions [100, 2, 3, 4], it flattens the tensor to be of shape [100, 24], where 24 = 2 * 3 * 4.  we can read the full documentation on [Flatten](https://www.tensorflow.org/api_docs/python/tf/keras/layers/Flatten).\n",
    "\n",
    "- **tf.keras.layers.Dense(units= ... , activation='softmax')(F):** given the flattened input F, it returns the output computed using a fully connected layer. we can read the full documentation on [Dense](https://www.tensorflow.org/api_docs/python/tf/keras/layers/Dense).\n",
    "\n",
    "In the last function above (`tf.keras.layers.Dense()`), the fully connected layer automatically initializes weights in the graph and keeps on training them as we train the model. Hence, we did not need to initialize those weights when initializing the parameters.\n",
    "\n",
    "Lastly, before creating the model, we'll need to define the output using the last of the function's compositions (in this example, a Dense layer): \n",
    "\n",
    "- **outputs = tf.keras.layers.Dense(units=6, activation='softmax')(F)**\n",
    "\n",
    "\n",
    "#### Window, kernel, filter, pool\n",
    "\n",
    "The words \"kernel\" and \"filter\" are used to refer to the same thing. The word \"filter\" accounts for the amount of \"kernels\" that will be used in a single convolution layer. \"Pool\" is the name of the operation that takes the max or average value of the kernels. \n",
    "\n",
    "This is why the parameter `pool_size` refers to `kernel_size`, and we use `(f,f)` to refer to the filter size. \n",
    "\n",
    "Pool size and kernel size refer to the same thing in different objects - They refer to the shape of the window where the operation takes place. "
   ]
  },
  {
   "cell_type": "markdown",
   "metadata": {},
   "source": [
    "<a name='ex-2'></a>\n",
    "### convolutional_model\n",
    "\n",
    "Implement the `convolutional_model` function below to build the following model: `CONV2D -> RELU -> MAXPOOL -> CONV2D -> RELU -> MAXPOOL -> FLATTEN -> DENSE`. Use the functions above! \n",
    "\n",
    "Also, plug in the following parameters for all the steps:\n",
    "\n",
    " - [Conv2D](https://www.tensorflow.org/api_docs/python/tf/keras/layers/Conv2D): Use 8 4 by 4 filters, stride 1, padding is \"SAME\"\n",
    " - [ReLU](https://www.tensorflow.org/api_docs/python/tf/keras/layers/ReLU)\n",
    " - [MaxPool2D](https://www.tensorflow.org/api_docs/python/tf/keras/layers/MaxPool2D): Use an 8 by 8 filter size and an 8 by 8 stride, padding is \"SAME\"\n",
    " - **Conv2D**: Use 16 2 by 2 filters, stride 1, padding is \"SAME\"\n",
    " - **ReLU**\n",
    " - **MaxPool2D**: Use a 4 by 4 filter size and a 4 by 4 stride, padding is \"SAME\"\n",
    " - [Flatten](https://www.tensorflow.org/api_docs/python/tf/keras/layers/Flatten) the previous output.\n",
    " - Fully-connected ([Dense](https://www.tensorflow.org/api_docs/python/tf/keras/layers/Dense)) layer: Apply a fully connected layer with 6 neurons and a softmax activation. "
   ]
  },
  {
   "cell_type": "code",
   "execution_count": 58,
   "metadata": {
    "deletable": false,
    "nbgrader": {
     "cell_type": "code",
     "checksum": "f58643806aa8380c96225fc8b4c5e7aa",
     "grade": false,
     "grade_id": "cell-dac51744a9e03f51",
     "locked": false,
     "schema_version": 3,
     "solution": true,
     "task": false
    }
   },
   "outputs": [],
   "source": [
    "def convolutional_model(input_shape):\n",
    "    \"\"\"\n",
    "    Implements the forward propagation for the model:\n",
    "    CONV2D -> RELU -> MAXPOOL -> CONV2D -> RELU -> MAXPOOL -> FLATTEN -> DENSE\n",
    "    \n",
    "    Note that for simplicity and grading purposes, we'll hard-code some values\n",
    "    such as the stride and kernel (filter) sizes. \n",
    "    Normally, functions should take these values as function parameters.\n",
    "    \n",
    "    Arguments:\n",
    "    input_img -- input dataset, of shape (input_shape)\n",
    "\n",
    "    Returns:\n",
    "    model -- TF Keras model (object containing the information for the entire training process) \n",
    "    \"\"\"\n",
    "\n",
    "    input_img = tf.keras.Input(shape=input_shape)\n",
    "    Z1 = tfl.Conv2D(filters=8,kernel_size=(4,4),padding='same')(input_img)\n",
    "    relu1 = tfl.ReLU()\n",
    "    A1 = relu1(Z1)\n",
    "    P1 = tfl.MaxPool2D(pool_size=(8,8),strides=(8,8),padding='same')(A1)\n",
    "    Z2 = tfl.Conv2D(filters=16,kernel_size=(2,2),padding='same')(P1)\n",
    "    relu2 = tfl.ReLU()\n",
    "    A2 = relu2(Z2)\n",
    "    P2 = tfl.MaxPool2D(pool_size=(4,4),strides=(4,4),padding='same')(A2)\n",
    "    F = tfl.Flatten()(P2)\n",
    "    outputs = tfl.Dense(units=6, activation='softmax')(F)\n",
    "    \n",
    "    model = tf.keras.Model(inputs=input_img, outputs=outputs)\n",
    "    return model"
   ]
  },
  {
   "cell_type": "code",
   "execution_count": 59,
   "metadata": {
    "deletable": false,
    "editable": false,
    "nbgrader": {
     "cell_type": "code",
     "checksum": "483d626949930a0b0ef20997e7c6ba72",
     "grade": true,
     "grade_id": "cell-45d22e92042174c9",
     "locked": true,
     "points": 10,
     "schema_version": 3,
     "solution": false,
     "task": false
    }
   },
   "outputs": [
    {
     "name": "stdout",
     "output_type": "stream",
     "text": [
      "Model: \"functional_3\"\n",
      "_________________________________________________________________\n",
      "Layer (type)                 Output Shape              Param #   \n",
      "=================================================================\n",
      "input_7 (InputLayer)         [(None, 64, 64, 3)]       0         \n",
      "_________________________________________________________________\n",
      "conv2d_18 (Conv2D)           (None, 64, 64, 8)         392       \n",
      "_________________________________________________________________\n",
      "re_lu_13 (ReLU)              (None, 64, 64, 8)         0         \n",
      "_________________________________________________________________\n",
      "max_pooling2d_14 (MaxPooling (None, 8, 8, 8)           0         \n",
      "_________________________________________________________________\n",
      "conv2d_19 (Conv2D)           (None, 8, 8, 16)          528       \n",
      "_________________________________________________________________\n",
      "re_lu_14 (ReLU)              (None, 8, 8, 16)          0         \n",
      "_________________________________________________________________\n",
      "max_pooling2d_15 (MaxPooling (None, 2, 2, 16)          0         \n",
      "_________________________________________________________________\n",
      "flatten_9 (Flatten)          (None, 64)                0         \n",
      "_________________________________________________________________\n",
      "dense_7 (Dense)              (None, 6)                 390       \n",
      "=================================================================\n",
      "Total params: 1,310\n",
      "Trainable params: 1,310\n",
      "Non-trainable params: 0\n",
      "_________________________________________________________________\n",
      "\u001b[32mAll tests passed!\u001b[0m\n"
     ]
    }
   ],
   "source": [
    "conv_model = convolutional_model((64, 64, 3))\n",
    "conv_model.compile(optimizer='adam',\n",
    "                  loss='categorical_crossentropy',\n",
    "                  metrics=['accuracy'])\n",
    "conv_model.summary()\n",
    "    \n",
    "output = [['InputLayer', [(None, 64, 64, 3)], 0],\n",
    "        ['Conv2D', (None, 64, 64, 8), 392, 'same', 'linear', 'GlorotUniform'],\n",
    "        ['ReLU', (None, 64, 64, 8), 0],\n",
    "        ['MaxPooling2D', (None, 8, 8, 8), 0, (8, 8), (8, 8), 'same'],\n",
    "        ['Conv2D', (None, 8, 8, 16), 528, 'same', 'linear', 'GlorotUniform'],\n",
    "        ['ReLU', (None, 8, 8, 16), 0],\n",
    "        ['MaxPooling2D', (None, 2, 2, 16), 0, (4, 4), (4, 4), 'same'],\n",
    "        ['Flatten', (None, 64), 0],\n",
    "        ['Dense', (None, 6), 390, 'softmax']]\n",
    "    \n",
    "comparator(summary(conv_model), output)"
   ]
  },
  {
   "cell_type": "markdown",
   "metadata": {},
   "source": [
    "Both the Sequential and Functional APIs return a TF Keras model object. The only difference is how inputs are handled inside the object model."
   ]
  },
  {
   "cell_type": "markdown",
   "metadata": {},
   "source": [
    "<a name='4-4'></a>\n",
    "### 4.4 - Train the Model"
   ]
  },
  {
   "cell_type": "code",
   "execution_count": 60,
   "metadata": {
    "scrolled": true
   },
   "outputs": [
    {
     "name": "stdout",
     "output_type": "stream",
     "text": [
      "Epoch 1/100\n",
      "17/17 [==============================] - 2s 112ms/step - loss: 1.8091 - accuracy: 0.1667 - val_loss: 1.7886 - val_accuracy: 0.1667\n",
      "Epoch 2/100\n",
      "17/17 [==============================] - 2s 111ms/step - loss: 1.7898 - accuracy: 0.1796 - val_loss: 1.7827 - val_accuracy: 0.2750\n",
      "Epoch 3/100\n",
      "17/17 [==============================] - 2s 111ms/step - loss: 1.7867 - accuracy: 0.1796 - val_loss: 1.7790 - val_accuracy: 0.2917\n",
      "Epoch 4/100\n",
      "17/17 [==============================] - 2s 106ms/step - loss: 1.7847 - accuracy: 0.1898 - val_loss: 1.7765 - val_accuracy: 0.3167\n",
      "Epoch 5/100\n",
      "17/17 [==============================] - 2s 106ms/step - loss: 1.7823 - accuracy: 0.2185 - val_loss: 1.7728 - val_accuracy: 0.3083\n",
      "Epoch 6/100\n",
      "17/17 [==============================] - 2s 111ms/step - loss: 1.7800 - accuracy: 0.2157 - val_loss: 1.7689 - val_accuracy: 0.3000\n",
      "Epoch 7/100\n",
      "17/17 [==============================] - 2s 106ms/step - loss: 1.7770 - accuracy: 0.2389 - val_loss: 1.7638 - val_accuracy: 0.3167\n",
      "Epoch 8/100\n",
      "17/17 [==============================] - 2s 111ms/step - loss: 1.7737 - accuracy: 0.2352 - val_loss: 1.7583 - val_accuracy: 0.3417\n",
      "Epoch 9/100\n",
      "17/17 [==============================] - 2s 106ms/step - loss: 1.7698 - accuracy: 0.2556 - val_loss: 1.7518 - val_accuracy: 0.3500\n",
      "Epoch 10/100\n",
      "17/17 [==============================] - 2s 107ms/step - loss: 1.7639 - accuracy: 0.2583 - val_loss: 1.7435 - val_accuracy: 0.3583\n",
      "Epoch 11/100\n",
      "17/17 [==============================] - 2s 106ms/step - loss: 1.7576 - accuracy: 0.2907 - val_loss: 1.7335 - val_accuracy: 0.4167\n",
      "Epoch 12/100\n",
      "17/17 [==============================] - 2s 107ms/step - loss: 1.7509 - accuracy: 0.3028 - val_loss: 1.7223 - val_accuracy: 0.4083\n",
      "Epoch 13/100\n",
      "17/17 [==============================] - 2s 106ms/step - loss: 1.7411 - accuracy: 0.3324 - val_loss: 1.7078 - val_accuracy: 0.4500\n",
      "Epoch 14/100\n",
      "17/17 [==============================] - 2s 106ms/step - loss: 1.7278 - accuracy: 0.3509 - val_loss: 1.6895 - val_accuracy: 0.4417\n",
      "Epoch 15/100\n",
      "17/17 [==============================] - 2s 107ms/step - loss: 1.7119 - accuracy: 0.3407 - val_loss: 1.6677 - val_accuracy: 0.4667\n",
      "Epoch 16/100\n",
      "17/17 [==============================] - 2s 106ms/step - loss: 1.6915 - accuracy: 0.3519 - val_loss: 1.6401 - val_accuracy: 0.4750\n",
      "Epoch 17/100\n",
      "17/17 [==============================] - 2s 106ms/step - loss: 1.6669 - accuracy: 0.3685 - val_loss: 1.6103 - val_accuracy: 0.5000\n",
      "Epoch 18/100\n",
      "17/17 [==============================] - 2s 107ms/step - loss: 1.6395 - accuracy: 0.3824 - val_loss: 1.5806 - val_accuracy: 0.4917\n",
      "Epoch 19/100\n",
      "17/17 [==============================] - 2s 106ms/step - loss: 1.6087 - accuracy: 0.3944 - val_loss: 1.5478 - val_accuracy: 0.5000\n",
      "Epoch 20/100\n",
      "17/17 [==============================] - 2s 106ms/step - loss: 1.5758 - accuracy: 0.4315 - val_loss: 1.5114 - val_accuracy: 0.4667\n",
      "Epoch 21/100\n",
      "17/17 [==============================] - 2s 111ms/step - loss: 1.5359 - accuracy: 0.4472 - val_loss: 1.4693 - val_accuracy: 0.5167\n",
      "Epoch 22/100\n",
      "17/17 [==============================] - 2s 107ms/step - loss: 1.4945 - accuracy: 0.4824 - val_loss: 1.4161 - val_accuracy: 0.5750\n",
      "Epoch 23/100\n",
      "17/17 [==============================] - 2s 106ms/step - loss: 1.4541 - accuracy: 0.5083 - val_loss: 1.3742 - val_accuracy: 0.6167\n",
      "Epoch 24/100\n",
      "17/17 [==============================] - 2s 106ms/step - loss: 1.4133 - accuracy: 0.5259 - val_loss: 1.3281 - val_accuracy: 0.6167\n",
      "Epoch 25/100\n",
      "17/17 [==============================] - 2s 106ms/step - loss: 1.3707 - accuracy: 0.5426 - val_loss: 1.2831 - val_accuracy: 0.6333\n",
      "Epoch 26/100\n",
      "17/17 [==============================] - 2s 106ms/step - loss: 1.3314 - accuracy: 0.5583 - val_loss: 1.2495 - val_accuracy: 0.6583\n",
      "Epoch 27/100\n",
      "17/17 [==============================] - 2s 106ms/step - loss: 1.2903 - accuracy: 0.5750 - val_loss: 1.2116 - val_accuracy: 0.6750\n",
      "Epoch 28/100\n",
      "17/17 [==============================] - 2s 106ms/step - loss: 1.2507 - accuracy: 0.5880 - val_loss: 1.1764 - val_accuracy: 0.6917\n",
      "Epoch 29/100\n",
      "17/17 [==============================] - 2s 106ms/step - loss: 1.2151 - accuracy: 0.6000 - val_loss: 1.1445 - val_accuracy: 0.6667\n",
      "Epoch 30/100\n",
      "17/17 [==============================] - 2s 106ms/step - loss: 1.1822 - accuracy: 0.6139 - val_loss: 1.1132 - val_accuracy: 0.6750\n",
      "Epoch 31/100\n",
      "17/17 [==============================] - 2s 106ms/step - loss: 1.1520 - accuracy: 0.6250 - val_loss: 1.0836 - val_accuracy: 0.6750\n",
      "Epoch 32/100\n",
      "17/17 [==============================] - 2s 106ms/step - loss: 1.1232 - accuracy: 0.6352 - val_loss: 1.0541 - val_accuracy: 0.6833\n",
      "Epoch 33/100\n",
      "17/17 [==============================] - 2s 106ms/step - loss: 1.0964 - accuracy: 0.6426 - val_loss: 1.0277 - val_accuracy: 0.6917\n",
      "Epoch 34/100\n",
      "17/17 [==============================] - 2s 111ms/step - loss: 1.0720 - accuracy: 0.6500 - val_loss: 1.0027 - val_accuracy: 0.6917\n",
      "Epoch 35/100\n",
      "17/17 [==============================] - 2s 106ms/step - loss: 1.0491 - accuracy: 0.6565 - val_loss: 0.9792 - val_accuracy: 0.6917\n",
      "Epoch 36/100\n",
      "17/17 [==============================] - 2s 111ms/step - loss: 1.0282 - accuracy: 0.6593 - val_loss: 0.9576 - val_accuracy: 0.7083\n",
      "Epoch 37/100\n",
      "17/17 [==============================] - 2s 106ms/step - loss: 1.0079 - accuracy: 0.6676 - val_loss: 0.9357 - val_accuracy: 0.7083\n",
      "Epoch 38/100\n",
      "17/17 [==============================] - 2s 106ms/step - loss: 0.9895 - accuracy: 0.6667 - val_loss: 0.9165 - val_accuracy: 0.7250\n",
      "Epoch 39/100\n",
      "17/17 [==============================] - 2s 106ms/step - loss: 0.9723 - accuracy: 0.6722 - val_loss: 0.8984 - val_accuracy: 0.7333\n",
      "Epoch 40/100\n",
      "17/17 [==============================] - 2s 101ms/step - loss: 0.9550 - accuracy: 0.6787 - val_loss: 0.8810 - val_accuracy: 0.7417\n",
      "Epoch 41/100\n",
      "17/17 [==============================] - 2s 106ms/step - loss: 0.9396 - accuracy: 0.6833 - val_loss: 0.8659 - val_accuracy: 0.7417\n",
      "Epoch 42/100\n",
      "17/17 [==============================] - 2s 111ms/step - loss: 0.9238 - accuracy: 0.6907 - val_loss: 0.8513 - val_accuracy: 0.7333\n",
      "Epoch 43/100\n",
      "17/17 [==============================] - 2s 106ms/step - loss: 0.9093 - accuracy: 0.6991 - val_loss: 0.8377 - val_accuracy: 0.7333\n",
      "Epoch 44/100\n",
      "17/17 [==============================] - 2s 106ms/step - loss: 0.8953 - accuracy: 0.7009 - val_loss: 0.8247 - val_accuracy: 0.7333\n",
      "Epoch 45/100\n",
      "17/17 [==============================] - 2s 106ms/step - loss: 0.8825 - accuracy: 0.7093 - val_loss: 0.8130 - val_accuracy: 0.7500\n",
      "Epoch 46/100\n",
      "17/17 [==============================] - 2s 106ms/step - loss: 0.8703 - accuracy: 0.7102 - val_loss: 0.8024 - val_accuracy: 0.7500\n",
      "Epoch 47/100\n",
      "17/17 [==============================] - 2s 111ms/step - loss: 0.8585 - accuracy: 0.7148 - val_loss: 0.7922 - val_accuracy: 0.7667\n",
      "Epoch 48/100\n",
      "17/17 [==============================] - 2s 106ms/step - loss: 0.8476 - accuracy: 0.7213 - val_loss: 0.7855 - val_accuracy: 0.7750\n",
      "Epoch 49/100\n",
      "17/17 [==============================] - 2s 106ms/step - loss: 0.8364 - accuracy: 0.7222 - val_loss: 0.7754 - val_accuracy: 0.7667\n",
      "Epoch 50/100\n",
      "17/17 [==============================] - 2s 106ms/step - loss: 0.8251 - accuracy: 0.7241 - val_loss: 0.7657 - val_accuracy: 0.7750\n",
      "Epoch 51/100\n",
      "17/17 [==============================] - 2s 106ms/step - loss: 0.8127 - accuracy: 0.7222 - val_loss: 0.7555 - val_accuracy: 0.7667\n",
      "Epoch 52/100\n",
      "17/17 [==============================] - 2s 106ms/step - loss: 0.7996 - accuracy: 0.7287 - val_loss: 0.7466 - val_accuracy: 0.7667\n",
      "Epoch 53/100\n",
      "17/17 [==============================] - 2s 106ms/step - loss: 0.7886 - accuracy: 0.7333 - val_loss: 0.7348 - val_accuracy: 0.7583\n",
      "Epoch 54/100\n",
      "17/17 [==============================] - 2s 106ms/step - loss: 0.7785 - accuracy: 0.7361 - val_loss: 0.7294 - val_accuracy: 0.7667\n",
      "Epoch 55/100\n",
      "17/17 [==============================] - 2s 106ms/step - loss: 0.7687 - accuracy: 0.7435 - val_loss: 0.7211 - val_accuracy: 0.7667\n",
      "Epoch 56/100\n",
      "17/17 [==============================] - 2s 106ms/step - loss: 0.7601 - accuracy: 0.7454 - val_loss: 0.7148 - val_accuracy: 0.7667\n",
      "Epoch 57/100\n",
      "17/17 [==============================] - 2s 106ms/step - loss: 0.7515 - accuracy: 0.7481 - val_loss: 0.7087 - val_accuracy: 0.7667\n"
     ]
    },
    {
     "name": "stdout",
     "output_type": "stream",
     "text": [
      "Epoch 58/100\n",
      "17/17 [==============================] - 2s 106ms/step - loss: 0.7427 - accuracy: 0.7472 - val_loss: 0.7023 - val_accuracy: 0.7667\n",
      "Epoch 59/100\n",
      "17/17 [==============================] - 2s 111ms/step - loss: 0.7352 - accuracy: 0.7491 - val_loss: 0.6963 - val_accuracy: 0.7667\n",
      "Epoch 60/100\n",
      "17/17 [==============================] - 2s 111ms/step - loss: 0.7279 - accuracy: 0.7500 - val_loss: 0.6903 - val_accuracy: 0.7583\n",
      "Epoch 61/100\n",
      "17/17 [==============================] - 2s 107ms/step - loss: 0.7199 - accuracy: 0.7546 - val_loss: 0.6857 - val_accuracy: 0.7583\n",
      "Epoch 62/100\n",
      "17/17 [==============================] - 2s 111ms/step - loss: 0.7130 - accuracy: 0.7583 - val_loss: 0.6784 - val_accuracy: 0.7833\n",
      "Epoch 63/100\n",
      "17/17 [==============================] - 2s 106ms/step - loss: 0.7064 - accuracy: 0.7593 - val_loss: 0.6750 - val_accuracy: 0.7750\n",
      "Epoch 64/100\n",
      "17/17 [==============================] - 2s 106ms/step - loss: 0.6996 - accuracy: 0.7667 - val_loss: 0.6688 - val_accuracy: 0.7917\n",
      "Epoch 65/100\n",
      "17/17 [==============================] - 2s 106ms/step - loss: 0.6932 - accuracy: 0.7676 - val_loss: 0.6647 - val_accuracy: 0.7917\n",
      "Epoch 66/100\n",
      "17/17 [==============================] - 2s 106ms/step - loss: 0.6870 - accuracy: 0.7667 - val_loss: 0.6597 - val_accuracy: 0.7917\n",
      "Epoch 67/100\n",
      "17/17 [==============================] - 2s 106ms/step - loss: 0.6807 - accuracy: 0.7704 - val_loss: 0.6542 - val_accuracy: 0.7917\n",
      "Epoch 68/100\n",
      "17/17 [==============================] - 2s 106ms/step - loss: 0.6748 - accuracy: 0.7685 - val_loss: 0.6496 - val_accuracy: 0.7917\n",
      "Epoch 69/100\n",
      "17/17 [==============================] - 2s 106ms/step - loss: 0.6688 - accuracy: 0.7741 - val_loss: 0.6443 - val_accuracy: 0.8000\n",
      "Epoch 70/100\n",
      "17/17 [==============================] - 2s 106ms/step - loss: 0.6631 - accuracy: 0.7815 - val_loss: 0.6399 - val_accuracy: 0.8000\n",
      "Epoch 71/100\n",
      "17/17 [==============================] - 2s 106ms/step - loss: 0.6576 - accuracy: 0.7806 - val_loss: 0.6354 - val_accuracy: 0.8000\n",
      "Epoch 72/100\n",
      "17/17 [==============================] - 2s 111ms/step - loss: 0.6517 - accuracy: 0.7861 - val_loss: 0.6310 - val_accuracy: 0.8000\n",
      "Epoch 73/100\n",
      "17/17 [==============================] - 2s 107ms/step - loss: 0.6468 - accuracy: 0.7852 - val_loss: 0.6270 - val_accuracy: 0.8083\n",
      "Epoch 74/100\n",
      "17/17 [==============================] - 2s 106ms/step - loss: 0.6418 - accuracy: 0.7870 - val_loss: 0.6231 - val_accuracy: 0.8000\n",
      "Epoch 75/100\n",
      "17/17 [==============================] - 2s 107ms/step - loss: 0.6367 - accuracy: 0.7889 - val_loss: 0.6189 - val_accuracy: 0.8000\n",
      "Epoch 76/100\n",
      "17/17 [==============================] - 2s 106ms/step - loss: 0.6318 - accuracy: 0.7880 - val_loss: 0.6151 - val_accuracy: 0.8000\n",
      "Epoch 77/100\n",
      "17/17 [==============================] - 2s 106ms/step - loss: 0.6269 - accuracy: 0.7907 - val_loss: 0.6116 - val_accuracy: 0.8000\n",
      "Epoch 78/100\n",
      "17/17 [==============================] - 2s 111ms/step - loss: 0.6216 - accuracy: 0.7944 - val_loss: 0.6077 - val_accuracy: 0.8000\n",
      "Epoch 79/100\n",
      "17/17 [==============================] - 2s 107ms/step - loss: 0.6168 - accuracy: 0.7944 - val_loss: 0.6047 - val_accuracy: 0.8000\n",
      "Epoch 80/100\n",
      "17/17 [==============================] - 2s 106ms/step - loss: 0.6119 - accuracy: 0.7963 - val_loss: 0.6015 - val_accuracy: 0.8000\n",
      "Epoch 81/100\n",
      "17/17 [==============================] - 2s 106ms/step - loss: 0.6073 - accuracy: 0.7972 - val_loss: 0.5984 - val_accuracy: 0.7917\n",
      "Epoch 82/100\n",
      "17/17 [==============================] - 2s 106ms/step - loss: 0.6025 - accuracy: 0.7991 - val_loss: 0.5954 - val_accuracy: 0.7750\n",
      "Epoch 83/100\n",
      "17/17 [==============================] - 2s 106ms/step - loss: 0.5980 - accuracy: 0.7991 - val_loss: 0.5922 - val_accuracy: 0.7917\n",
      "Epoch 84/100\n",
      "17/17 [==============================] - 2s 106ms/step - loss: 0.5934 - accuracy: 0.8000 - val_loss: 0.5887 - val_accuracy: 0.7917\n",
      "Epoch 85/100\n",
      "17/17 [==============================] - 2s 106ms/step - loss: 0.5889 - accuracy: 0.8037 - val_loss: 0.5853 - val_accuracy: 0.8000\n",
      "Epoch 86/100\n",
      "17/17 [==============================] - 2s 106ms/step - loss: 0.5847 - accuracy: 0.8019 - val_loss: 0.5818 - val_accuracy: 0.8000\n",
      "Epoch 87/100\n",
      "17/17 [==============================] - 2s 106ms/step - loss: 0.5805 - accuracy: 0.8028 - val_loss: 0.5784 - val_accuracy: 0.8000\n",
      "Epoch 88/100\n",
      "17/17 [==============================] - 2s 106ms/step - loss: 0.5763 - accuracy: 0.8037 - val_loss: 0.5755 - val_accuracy: 0.8000\n",
      "Epoch 89/100\n",
      "17/17 [==============================] - 2s 106ms/step - loss: 0.5720 - accuracy: 0.8065 - val_loss: 0.5723 - val_accuracy: 0.8000\n",
      "Epoch 90/100\n",
      "17/17 [==============================] - 2s 106ms/step - loss: 0.5680 - accuracy: 0.8074 - val_loss: 0.5692 - val_accuracy: 0.8000\n",
      "Epoch 91/100\n",
      "17/17 [==============================] - 2s 106ms/step - loss: 0.5639 - accuracy: 0.8093 - val_loss: 0.5661 - val_accuracy: 0.8000\n",
      "Epoch 92/100\n",
      "17/17 [==============================] - 2s 106ms/step - loss: 0.5598 - accuracy: 0.8093 - val_loss: 0.5634 - val_accuracy: 0.8000\n",
      "Epoch 93/100\n",
      "17/17 [==============================] - 2s 106ms/step - loss: 0.5560 - accuracy: 0.8083 - val_loss: 0.5604 - val_accuracy: 0.8000\n",
      "Epoch 94/100\n",
      "17/17 [==============================] - 2s 106ms/step - loss: 0.5520 - accuracy: 0.8083 - val_loss: 0.5577 - val_accuracy: 0.8000\n",
      "Epoch 95/100\n",
      "17/17 [==============================] - 2s 106ms/step - loss: 0.5483 - accuracy: 0.8120 - val_loss: 0.5549 - val_accuracy: 0.8000\n",
      "Epoch 96/100\n",
      "17/17 [==============================] - 2s 106ms/step - loss: 0.5442 - accuracy: 0.8111 - val_loss: 0.5524 - val_accuracy: 0.8000\n",
      "Epoch 97/100\n",
      "17/17 [==============================] - 2s 106ms/step - loss: 0.5404 - accuracy: 0.8130 - val_loss: 0.5496 - val_accuracy: 0.8000\n",
      "Epoch 98/100\n",
      "17/17 [==============================] - 2s 106ms/step - loss: 0.5369 - accuracy: 0.8157 - val_loss: 0.5466 - val_accuracy: 0.8000\n",
      "Epoch 99/100\n",
      "17/17 [==============================] - 2s 106ms/step - loss: 0.5331 - accuracy: 0.8194 - val_loss: 0.5442 - val_accuracy: 0.8000\n",
      "Epoch 100/100\n",
      "17/17 [==============================] - 2s 106ms/step - loss: 0.5288 - accuracy: 0.8213 - val_loss: 0.5413 - val_accuracy: 0.8000\n"
     ]
    }
   ],
   "source": [
    "train_dataset = tf.data.Dataset.from_tensor_slices((X_train, Y_train)).batch(64)\n",
    "test_dataset = tf.data.Dataset.from_tensor_slices((X_test, Y_test)).batch(64)\n",
    "history = conv_model.fit(train_dataset, epochs=100, validation_data=test_dataset)"
   ]
  },
  {
   "cell_type": "markdown",
   "metadata": {},
   "source": [
    "<a name='5'></a>\n",
    "## 5 - History Object \n",
    "\n",
    "The history object is an output of the `.fit()` operation, and provides a record of all the loss and metric values in memory. It's stored as a dictionary that we can retrieve at `history.history`: "
   ]
  },
  {
   "cell_type": "code",
   "execution_count": 62,
   "metadata": {},
   "outputs": [
    {
     "data": {
      "text/plain": [
       "{'loss': [1.8091126680374146,\n",
       "  1.7897731065750122,\n",
       "  1.7866631746292114,\n",
       "  1.7846598625183105,\n",
       "  1.7822991609573364,\n",
       "  1.779999017715454,\n",
       "  1.7769705057144165,\n",
       "  1.773717999458313,\n",
       "  1.7697958946228027,\n",
       "  1.7639274597167969,\n",
       "  1.7576258182525635,\n",
       "  1.7508817911148071,\n",
       "  1.7410615682601929,\n",
       "  1.7278372049331665,\n",
       "  1.7119238376617432,\n",
       "  1.6914881467819214,\n",
       "  1.6668776273727417,\n",
       "  1.6394777297973633,\n",
       "  1.6087499856948853,\n",
       "  1.5757832527160645,\n",
       "  1.5359452962875366,\n",
       "  1.4944978952407837,\n",
       "  1.4541404247283936,\n",
       "  1.4133063554763794,\n",
       "  1.3707406520843506,\n",
       "  1.3313653469085693,\n",
       "  1.2902979850769043,\n",
       "  1.2506675720214844,\n",
       "  1.215098261833191,\n",
       "  1.182239294052124,\n",
       "  1.151970624923706,\n",
       "  1.1232268810272217,\n",
       "  1.0964257717132568,\n",
       "  1.0719923973083496,\n",
       "  1.0490905046463013,\n",
       "  1.02816641330719,\n",
       "  1.0078892707824707,\n",
       "  0.9895395636558533,\n",
       "  0.9722667336463928,\n",
       "  0.9549951553344727,\n",
       "  0.9395889639854431,\n",
       "  0.9237942099571228,\n",
       "  0.9092991352081299,\n",
       "  0.8953472971916199,\n",
       "  0.8825314044952393,\n",
       "  0.8702772855758667,\n",
       "  0.8584774732589722,\n",
       "  0.8475505113601685,\n",
       "  0.836382269859314,\n",
       "  0.82505863904953,\n",
       "  0.8126500844955444,\n",
       "  0.799629807472229,\n",
       "  0.7886252999305725,\n",
       "  0.7784988284111023,\n",
       "  0.7687020897865295,\n",
       "  0.7600876092910767,\n",
       "  0.751535952091217,\n",
       "  0.7426542043685913,\n",
       "  0.7352052330970764,\n",
       "  0.7278845310211182,\n",
       "  0.719912588596344,\n",
       "  0.7130373120307922,\n",
       "  0.7063580751419067,\n",
       "  0.6995664238929749,\n",
       "  0.6931900382041931,\n",
       "  0.6869668364524841,\n",
       "  0.6806897521018982,\n",
       "  0.6748461127281189,\n",
       "  0.6687644720077515,\n",
       "  0.6630696058273315,\n",
       "  0.6575745344161987,\n",
       "  0.6517449021339417,\n",
       "  0.6467729210853577,\n",
       "  0.641812264919281,\n",
       "  0.636656641960144,\n",
       "  0.631752610206604,\n",
       "  0.6268534064292908,\n",
       "  0.6216380596160889,\n",
       "  0.6167954802513123,\n",
       "  0.6118682622909546,\n",
       "  0.6072900891304016,\n",
       "  0.6025427579879761,\n",
       "  0.5979557037353516,\n",
       "  0.5934152603149414,\n",
       "  0.5889466404914856,\n",
       "  0.58472740650177,\n",
       "  0.5805317759513855,\n",
       "  0.5762507319450378,\n",
       "  0.5720303058624268,\n",
       "  0.5680065751075745,\n",
       "  0.5639263987541199,\n",
       "  0.559788167476654,\n",
       "  0.5559788346290588,\n",
       "  0.5519514083862305,\n",
       "  0.5483189225196838,\n",
       "  0.5442240238189697,\n",
       "  0.540444016456604,\n",
       "  0.5368989706039429,\n",
       "  0.5330646634101868,\n",
       "  0.528775691986084],\n",
       " 'accuracy': [0.1666666716337204,\n",
       "  0.1796296238899231,\n",
       "  0.1796296238899231,\n",
       "  0.18981482088565826,\n",
       "  0.21851852536201477,\n",
       "  0.21574074029922485,\n",
       "  0.23888888955116272,\n",
       "  0.2351851910352707,\n",
       "  0.25555557012557983,\n",
       "  0.25833332538604736,\n",
       "  0.2907407283782959,\n",
       "  0.3027777671813965,\n",
       "  0.3324074149131775,\n",
       "  0.35092592239379883,\n",
       "  0.34074074029922485,\n",
       "  0.35185185074806213,\n",
       "  0.36851853132247925,\n",
       "  0.38240739703178406,\n",
       "  0.39444443583488464,\n",
       "  0.4314814805984497,\n",
       "  0.4472222328186035,\n",
       "  0.48240742087364197,\n",
       "  0.5083333253860474,\n",
       "  0.5259259343147278,\n",
       "  0.5425925850868225,\n",
       "  0.5583333373069763,\n",
       "  0.574999988079071,\n",
       "  0.5879629850387573,\n",
       "  0.6000000238418579,\n",
       "  0.6138888597488403,\n",
       "  0.625,\n",
       "  0.635185182094574,\n",
       "  0.6425926089286804,\n",
       "  0.6499999761581421,\n",
       "  0.6564815044403076,\n",
       "  0.6592592597007751,\n",
       "  0.6675925850868225,\n",
       "  0.6666666865348816,\n",
       "  0.6722221970558167,\n",
       "  0.6787037253379822,\n",
       "  0.6833333373069763,\n",
       "  0.6907407641410828,\n",
       "  0.6990740895271301,\n",
       "  0.7009259462356567,\n",
       "  0.7092592716217041,\n",
       "  0.710185170173645,\n",
       "  0.7148148417472839,\n",
       "  0.7212963104248047,\n",
       "  0.7222222089767456,\n",
       "  0.7240740656852722,\n",
       "  0.7222222089767456,\n",
       "  0.7287036776542664,\n",
       "  0.7333333492279053,\n",
       "  0.7361111044883728,\n",
       "  0.7435185313224792,\n",
       "  0.7453703880310059,\n",
       "  0.7481481432914734,\n",
       "  0.7472222447395325,\n",
       "  0.7490741014480591,\n",
       "  0.75,\n",
       "  0.7546296119689941,\n",
       "  0.7583333253860474,\n",
       "  0.7592592835426331,\n",
       "  0.7666666507720947,\n",
       "  0.7675926089286804,\n",
       "  0.7666666507720947,\n",
       "  0.770370364189148,\n",
       "  0.7685185074806213,\n",
       "  0.7740740776062012,\n",
       "  0.7814815044403076,\n",
       "  0.7805555462837219,\n",
       "  0.7861111164093018,\n",
       "  0.7851851582527161,\n",
       "  0.7870370149612427,\n",
       "  0.7888888716697693,\n",
       "  0.7879629731178284,\n",
       "  0.7907407283782959,\n",
       "  0.7944444417953491,\n",
       "  0.7944444417953491,\n",
       "  0.7962962985038757,\n",
       "  0.7972221970558167,\n",
       "  0.7990740537643433,\n",
       "  0.7990740537643433,\n",
       "  0.800000011920929,\n",
       "  0.8037037253379822,\n",
       "  0.8018518686294556,\n",
       "  0.8027777671813965,\n",
       "  0.8037037253379822,\n",
       "  0.8064814805984497,\n",
       "  0.8074073791503906,\n",
       "  0.8092592358589172,\n",
       "  0.8092592358589172,\n",
       "  0.8083333373069763,\n",
       "  0.8083333373069763,\n",
       "  0.8120370507240295,\n",
       "  0.8111110925674438,\n",
       "  0.8129629492759705,\n",
       "  0.8157407641410828,\n",
       "  0.8194444179534912,\n",
       "  0.8212962746620178],\n",
       " 'val_loss': [1.7885984182357788,\n",
       "  1.7827478647232056,\n",
       "  1.7790334224700928,\n",
       "  1.77654230594635,\n",
       "  1.7728253602981567,\n",
       "  1.7689282894134521,\n",
       "  1.763824462890625,\n",
       "  1.758349895477295,\n",
       "  1.751758337020874,\n",
       "  1.7434507608413696,\n",
       "  1.7334719896316528,\n",
       "  1.722286343574524,\n",
       "  1.7078322172164917,\n",
       "  1.6894710063934326,\n",
       "  1.6677353382110596,\n",
       "  1.6401450634002686,\n",
       "  1.6102690696716309,\n",
       "  1.5806223154067993,\n",
       "  1.547754168510437,\n",
       "  1.5114402770996094,\n",
       "  1.4692795276641846,\n",
       "  1.416100263595581,\n",
       "  1.374169111251831,\n",
       "  1.3281075954437256,\n",
       "  1.2830809354782104,\n",
       "  1.2494854927062988,\n",
       "  1.2115691900253296,\n",
       "  1.1763873100280762,\n",
       "  1.1444615125656128,\n",
       "  1.1132365465164185,\n",
       "  1.0836396217346191,\n",
       "  1.0541400909423828,\n",
       "  1.0276705026626587,\n",
       "  1.0027402639389038,\n",
       "  0.9792286157608032,\n",
       "  0.9576245546340942,\n",
       "  0.9356555342674255,\n",
       "  0.9164787530899048,\n",
       "  0.8984249234199524,\n",
       "  0.8809714913368225,\n",
       "  0.8659117221832275,\n",
       "  0.8513399958610535,\n",
       "  0.8377065062522888,\n",
       "  0.8246980309486389,\n",
       "  0.8130005598068237,\n",
       "  0.8024187088012695,\n",
       "  0.7922168970108032,\n",
       "  0.7854955196380615,\n",
       "  0.7754284143447876,\n",
       "  0.7657334804534912,\n",
       "  0.7555414438247681,\n",
       "  0.7466167211532593,\n",
       "  0.7347949743270874,\n",
       "  0.7294073700904846,\n",
       "  0.7211017608642578,\n",
       "  0.7147524952888489,\n",
       "  0.7086689472198486,\n",
       "  0.7023116946220398,\n",
       "  0.6962655186653137,\n",
       "  0.6902559995651245,\n",
       "  0.6856749653816223,\n",
       "  0.6783657670021057,\n",
       "  0.6750261783599854,\n",
       "  0.6688259243965149,\n",
       "  0.6647018790245056,\n",
       "  0.6596870422363281,\n",
       "  0.6542384028434753,\n",
       "  0.6496107578277588,\n",
       "  0.644259512424469,\n",
       "  0.6399248838424683,\n",
       "  0.6354291439056396,\n",
       "  0.6310201287269592,\n",
       "  0.6269741058349609,\n",
       "  0.6231377720832825,\n",
       "  0.6189373731613159,\n",
       "  0.6150696873664856,\n",
       "  0.6115862727165222,\n",
       "  0.6076526045799255,\n",
       "  0.6046816110610962,\n",
       "  0.6015394926071167,\n",
       "  0.598430871963501,\n",
       "  0.5954211950302124,\n",
       "  0.5921653509140015,\n",
       "  0.588717520236969,\n",
       "  0.585349440574646,\n",
       "  0.5817874073982239,\n",
       "  0.5784164071083069,\n",
       "  0.5754896998405457,\n",
       "  0.5722663402557373,\n",
       "  0.5691569447517395,\n",
       "  0.5661083459854126,\n",
       "  0.5633701086044312,\n",
       "  0.5603803992271423,\n",
       "  0.5577080845832825,\n",
       "  0.5549108982086182,\n",
       "  0.5524358153343201,\n",
       "  0.5495825409889221,\n",
       "  0.5466188788414001,\n",
       "  0.5442094802856445,\n",
       "  0.5413424372673035],\n",
       " 'val_accuracy': [0.1666666716337204,\n",
       "  0.2750000059604645,\n",
       "  0.2916666567325592,\n",
       "  0.3166666626930237,\n",
       "  0.3083333373069763,\n",
       "  0.30000001192092896,\n",
       "  0.3166666626930237,\n",
       "  0.34166666865348816,\n",
       "  0.3499999940395355,\n",
       "  0.3583333194255829,\n",
       "  0.4166666567325592,\n",
       "  0.40833333134651184,\n",
       "  0.44999998807907104,\n",
       "  0.4416666626930237,\n",
       "  0.46666666865348816,\n",
       "  0.4749999940395355,\n",
       "  0.5,\n",
       "  0.49166667461395264,\n",
       "  0.5,\n",
       "  0.46666666865348816,\n",
       "  0.5166666507720947,\n",
       "  0.574999988079071,\n",
       "  0.6166666746139526,\n",
       "  0.6166666746139526,\n",
       "  0.6333333253860474,\n",
       "  0.6583333611488342,\n",
       "  0.675000011920929,\n",
       "  0.6916666626930237,\n",
       "  0.6666666865348816,\n",
       "  0.675000011920929,\n",
       "  0.675000011920929,\n",
       "  0.6833333373069763,\n",
       "  0.6916666626930237,\n",
       "  0.6916666626930237,\n",
       "  0.6916666626930237,\n",
       "  0.7083333134651184,\n",
       "  0.7083333134651184,\n",
       "  0.7250000238418579,\n",
       "  0.7333333492279053,\n",
       "  0.7416666746139526,\n",
       "  0.7416666746139526,\n",
       "  0.7333333492279053,\n",
       "  0.7333333492279053,\n",
       "  0.7333333492279053,\n",
       "  0.75,\n",
       "  0.75,\n",
       "  0.7666666507720947,\n",
       "  0.7749999761581421,\n",
       "  0.7666666507720947,\n",
       "  0.7749999761581421,\n",
       "  0.7666666507720947,\n",
       "  0.7666666507720947,\n",
       "  0.7583333253860474,\n",
       "  0.7666666507720947,\n",
       "  0.7666666507720947,\n",
       "  0.7666666507720947,\n",
       "  0.7666666507720947,\n",
       "  0.7666666507720947,\n",
       "  0.7666666507720947,\n",
       "  0.7583333253860474,\n",
       "  0.7583333253860474,\n",
       "  0.7833333611488342,\n",
       "  0.7749999761581421,\n",
       "  0.7916666865348816,\n",
       "  0.7916666865348816,\n",
       "  0.7916666865348816,\n",
       "  0.7916666865348816,\n",
       "  0.7916666865348816,\n",
       "  0.800000011920929,\n",
       "  0.800000011920929,\n",
       "  0.800000011920929,\n",
       "  0.800000011920929,\n",
       "  0.8083333373069763,\n",
       "  0.800000011920929,\n",
       "  0.800000011920929,\n",
       "  0.800000011920929,\n",
       "  0.800000011920929,\n",
       "  0.800000011920929,\n",
       "  0.800000011920929,\n",
       "  0.800000011920929,\n",
       "  0.7916666865348816,\n",
       "  0.7749999761581421,\n",
       "  0.7916666865348816,\n",
       "  0.7916666865348816,\n",
       "  0.800000011920929,\n",
       "  0.800000011920929,\n",
       "  0.800000011920929,\n",
       "  0.800000011920929,\n",
       "  0.800000011920929,\n",
       "  0.800000011920929,\n",
       "  0.800000011920929,\n",
       "  0.800000011920929,\n",
       "  0.800000011920929,\n",
       "  0.800000011920929,\n",
       "  0.800000011920929,\n",
       "  0.800000011920929,\n",
       "  0.800000011920929,\n",
       "  0.800000011920929,\n",
       "  0.800000011920929,\n",
       "  0.800000011920929]}"
      ]
     },
     "execution_count": 62,
     "metadata": {},
     "output_type": "execute_result"
    }
   ],
   "source": [
    "history.history"
   ]
  },
  {
   "cell_type": "markdown",
   "metadata": {},
   "source": [
    "Now visualize the loss over time using `history.history`: "
   ]
  },
  {
   "cell_type": "code",
   "execution_count": 63,
   "metadata": {},
   "outputs": [
    {
     "data": {
      "text/plain": [
       "[Text(0, 0.5, 'Accuracy'), Text(0.5, 0, 'Epoch')]"
      ]
     },
     "execution_count": 63,
     "metadata": {},
     "output_type": "execute_result"
    },
    {
     "data": {
      "image/png": "[encoded data removed]",
      "text/plain": [
       "<Figure size 864x576 with 1 Axes>"
      ]
     },
     "metadata": {
      "needs_background": "light"
     },
     "output_type": "display_data"
    },
    {
     "data": {
      "image/png": "[encoded data removed]",
      "text/plain": [
       "<Figure size 864x576 with 1 Axes>"
      ]
     },
     "metadata": {
      "needs_background": "light"
     },
     "output_type": "display_data"
    }
   ],
   "source": [
    "# The history.history[\"loss\"] entry is a dictionary with as many values as epochs that the\n",
    "# model was trained on. \n",
    "df_loss_acc = pd.DataFrame(history.history)\n",
    "df_loss= df_loss_acc[['loss','val_loss']]\n",
    "df_loss.rename(columns={'loss':'train','val_loss':'validation'},inplace=True)\n",
    "df_acc= df_loss_acc[['accuracy','val_accuracy']]\n",
    "df_acc.rename(columns={'accuracy':'train','val_accuracy':'validation'},inplace=True)\n",
    "df_loss.plot(title='Model loss',figsize=(12,8)).set(xlabel='Epoch',ylabel='Loss')\n",
    "df_acc.plot(title='Model Accuracy',figsize=(12,8)).set(xlabel='Epoch',ylabel='Accuracy')"
   ]
  },
  {
   "cell_type": "markdown",
   "metadata": {},
   "source": [
    "for more information read the official documentation. To that end, we can find the docs for the Sequential and Functional APIs here: \n",
    "\n",
    "https://www.tensorflow.org/guide/keras/sequential_model\n",
    "\n",
    "https://www.tensorflow.org/guide/keras/functional"
   ]
  },
  {
   "cell_type": "code",
   "execution_count": null,
   "metadata": {},
   "outputs": [],
   "source": []
  }
 ],
 "metadata": {
  "coursera": {
   "course_slug": "convolutional-neural-networks",
   "graded_item_id": "bwbJV",
   "launcher_item_id": "0TkXB"
  },
  "kernelspec": {
   "display_name": "Python 3",
   "language": "python",
   "name": "python3"
  },
  "language_info": {
   "codemirror_mode": {
    "name": "ipython",
    "version": 3
   },
   "file_extension": ".py",
   "mimetype": "text/x-python",
   "name": "python",
   "nbconvert_exporter": "python",
   "pygments_lexer": "ipython3",
   "version": "3.7.6"
  }
 },
 "nbformat": 4,
 "nbformat_minor": 2
}
